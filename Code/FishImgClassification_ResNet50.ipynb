{
 "cells": [
  {
   "cell_type": "code",
   "execution_count": null,
   "id": "ad272cbd",
   "metadata": {},
   "outputs": [],
   "source": [
    "# Imports\n",
    "import pandas as pd\n",
    "import numpy as np\n",
    "import os\n",
    "import matplotlib.pyplot as plt\n",
    "import tensorflow as tf\n",
    "from keras.optimizers import Adam\n",
    "from pathlib import Path\n",
    "from sklearn.model_selection import train_test_split\n",
    "from sklearn.metrics import confusion_matrix, accuracy_score, precision_score, recall_score, f1_score"
   ]
  },
  {
   "cell_type": "code",
   "execution_count": null,
   "id": "47bc2a5e",
   "metadata": {},
   "outputs": [
    {
     "name": "stdout",
     "output_type": "stream",
     "text": [
      "['animal fish' 'animal fish bass' 'fish sea_food black_sea_sprat'\n",
      " 'fish sea_food gilt_head_bream' 'fish sea_food hourse_mackerel'\n",
      " 'fish sea_food red_mullet' 'fish sea_food red_sea_bream'\n",
      " 'fish sea_food sea_bass' 'fish sea_food shrimp'\n",
      " 'fish sea_food striped_red_mullet' 'fish sea_food trout']\n",
      "                                             Image Path                Label\n",
      "0     D:\\AIML\\FishImgClassificationProject\\Data\\trai...          animal fish\n",
      "1     D:\\AIML\\FishImgClassificationProject\\Data\\trai...          animal fish\n",
      "2     D:\\AIML\\FishImgClassificationProject\\Data\\trai...          animal fish\n",
      "3     D:\\AIML\\FishImgClassificationProject\\Data\\trai...          animal fish\n",
      "4     D:\\AIML\\FishImgClassificationProject\\Data\\trai...          animal fish\n",
      "...                                                 ...                  ...\n",
      "6220  D:\\AIML\\FishImgClassificationProject\\Data\\trai...  fish sea_food trout\n",
      "6221  D:\\AIML\\FishImgClassificationProject\\Data\\trai...  fish sea_food trout\n",
      "6222  D:\\AIML\\FishImgClassificationProject\\Data\\trai...  fish sea_food trout\n",
      "6223  D:\\AIML\\FishImgClassificationProject\\Data\\trai...  fish sea_food trout\n",
      "6224  D:\\AIML\\FishImgClassificationProject\\Data\\trai...  fish sea_food trout\n",
      "\n",
      "[6225 rows x 2 columns]\n"
     ]
    }
   ],
   "source": [
    "image_dir = Path('D:\\\\AIML\\\\FishImgClassificationProject\\\\Data\\\\train')\n",
    "image_paths= list(image_dir.glob(r'**/*.jpg'))\n",
    "\n",
    "# Get images and corresponding labels\n",
    "images = [str(p) for p in image_paths]\n",
    "labels = [os.path.split(os.path.split(p)[0])[1] for p in image_paths]\n",
    "\n",
    "df = pd.DataFrame({'Image Path': images,'Label': labels})\n",
    "print(df['Label'].unique())\n",
    "print(df)"
   ]
  },
  {
   "cell_type": "code",
   "execution_count": 6,
   "id": "10804232",
   "metadata": {},
   "outputs": [
    {
     "data": {
      "text/plain": [
       "Label\n",
       "animal fish                         1096\n",
       "fish sea_food trout                  580\n",
       "fish sea_food red_mullet             579\n",
       "fish sea_food shrimp                 576\n",
       "fish sea_food hourse_mackerel        573\n",
       "fish sea_food red_sea_bream          571\n",
       "fish sea_food black_sea_sprat        569\n",
       "fish sea_food gilt_head_bream        566\n",
       "fish sea_food striped_red_mullet     547\n",
       "fish sea_food sea_bass               538\n",
       "animal fish bass                      30\n",
       "Name: count, dtype: int64"
      ]
     },
     "execution_count": 6,
     "metadata": {},
     "output_type": "execute_result"
    }
   ],
   "source": [
    "df['Label'].value_counts()"
   ]
  },
  {
   "cell_type": "code",
   "execution_count": 7,
   "id": "a7257777",
   "metadata": {},
   "outputs": [
    {
     "name": "stdout",
     "output_type": "stream",
     "text": [
      "fish sea_food trout\n",
      "                                             Image Path                Label\n",
      "5645  D:\\AIML\\FishImgClassificationProject\\Data\\trai...  fish sea_food trout\n",
      "5646  D:\\AIML\\FishImgClassificationProject\\Data\\trai...  fish sea_food trout\n",
      "5647  D:\\AIML\\FishImgClassificationProject\\Data\\trai...  fish sea_food trout\n",
      "5648  D:\\AIML\\FishImgClassificationProject\\Data\\trai...  fish sea_food trout\n",
      "5649  D:\\AIML\\FishImgClassificationProject\\Data\\trai...  fish sea_food trout\n",
      "...                                                 ...                  ...\n",
      "6220  D:\\AIML\\FishImgClassificationProject\\Data\\trai...  fish sea_food trout\n",
      "6221  D:\\AIML\\FishImgClassificationProject\\Data\\trai...  fish sea_food trout\n",
      "6222  D:\\AIML\\FishImgClassificationProject\\Data\\trai...  fish sea_food trout\n",
      "6223  D:\\AIML\\FishImgClassificationProject\\Data\\trai...  fish sea_food trout\n",
      "6224  D:\\AIML\\FishImgClassificationProject\\Data\\trai...  fish sea_food trout\n",
      "\n",
      "[580 rows x 2 columns]\n",
      "                                             Image Path  \\\n",
      "0     D:\\AIML\\FishImgClassificationProject\\Data\\trai...   \n",
      "1     D:\\AIML\\FishImgClassificationProject\\Data\\trai...   \n",
      "2     D:\\AIML\\FishImgClassificationProject\\Data\\trai...   \n",
      "3     D:\\AIML\\FishImgClassificationProject\\Data\\trai...   \n",
      "4     D:\\AIML\\FishImgClassificationProject\\Data\\trai...   \n",
      "...                                                 ...   \n",
      "2025  D:\\AIML\\FishImgClassificationProject\\Data\\trai...   \n",
      "2026  D:\\AIML\\FishImgClassificationProject\\Data\\trai...   \n",
      "2027  D:\\AIML\\FishImgClassificationProject\\Data\\trai...   \n",
      "2028  D:\\AIML\\FishImgClassificationProject\\Data\\trai...   \n",
      "2029  D:\\AIML\\FishImgClassificationProject\\Data\\trai...   \n",
      "\n",
      "                                 Label  \n",
      "0                          animal fish  \n",
      "1                          animal fish  \n",
      "2        fish sea_food black_sea_sprat  \n",
      "3                 fish sea_food shrimp  \n",
      "4                  fish sea_food trout  \n",
      "...                                ...  \n",
      "2025  fish sea_food striped_red_mullet  \n",
      "2026       fish sea_food red_sea_bream  \n",
      "2027               fish sea_food trout  \n",
      "2028     fish sea_food black_sea_sprat  \n",
      "2029       fish sea_food red_sea_bream  \n",
      "\n",
      "[2030 rows x 2 columns]\n"
     ]
    }
   ],
   "source": [
    "# Sample 200 images from each class\n",
    "samples = []\n",
    "\n",
    "for category in df['Label'].unique():\n",
    "    category_slice = df.query(\"Label == @category\")\n",
    "    if(category == 'animal fish bass'):\n",
    "        samples.append(category_slice.sample(30, random_state=1))\n",
    "    else:\n",
    "        samples.append(category_slice.sample(200, random_state=1))\n",
    "print(category)\n",
    "print(category_slice)\n",
    "df = pd.concat(samples, axis=0).sample(frac=1.0, random_state=1).reset_index(drop=True)\n",
    "print(df)"
   ]
  },
  {
   "cell_type": "code",
   "execution_count": null,
   "id": "1c8d796c",
   "metadata": {},
   "outputs": [],
   "source": [
    "def plot_history(history):\n",
    "    \"\"\" Plots the graph of Accuracy and Loss over epochs with the history of the model \"\"\"\n",
    "\n",
    "    plt.figure(figsize=(12,4))\n",
    "    plt.subplot(1,2,1)\n",
    "    plt.plot(history.history['accuracy'], label='Train Accuracy')\n",
    "    plt.plot(history.history['val_accuracy'], label='Val Accuracy')\n",
    "    plt.ylim(0, 1)\n",
    "    plt.yticks(np.arange(0, 1.1, 0.1)) \n",
    "    plt.legend()\n",
    "    plt.title('Accuracy over epochs')\n",
    "    \n",
    "    plt.subplot(1,2,2)\n",
    "    plt.plot(history.history['loss'], label='Train Loss')\n",
    "    plt.plot(history.history['val_loss'], label='Val Loss')\n",
    "    plt.legend()\n",
    "    plt.title('Loss over epochs')\n",
    "    plt.show()"
   ]
  },
  {
   "cell_type": "code",
   "execution_count": null,
   "id": "b598694e",
   "metadata": {},
   "outputs": [],
   "source": [
    "# Split the Fish image data into train and test\n",
    "\n",
    "train_df, test_df = train_test_split(df, train_size=0.7, shuffle=True, random_state=1)"
   ]
  },
  {
   "cell_type": "code",
   "execution_count": null,
   "id": "e77f559c",
   "metadata": {},
   "outputs": [],
   "source": [
    "# Preprocess/Data Augmentation of the train and test data\n",
    "\n",
    "train_generator = tf.keras.preprocessing.image.ImageDataGenerator( \n",
    "                                                                rescale=1./255,\n",
    "                                                                shear_range=0.2, \n",
    "                                                                zoom_range=0.2,\n",
    "                                                                horizontal_flip=True,\n",
    "                                                                preprocessing_function=tf.keras.applications.resnet50.preprocess_input,\n",
    "                                                                validation_split=0.2)\n",
    "\n",
    "test_generator = tf.keras.preprocessing.image.ImageDataGenerator(\n",
    "                                                                rescale = 1./255,\n",
    "                                                                preprocessing_function=tf.keras.applications.resnet50.preprocess_input)"
   ]
  },
  {
   "cell_type": "code",
   "execution_count": null,
   "id": "54f2f5dc",
   "metadata": {},
   "outputs": [
    {
     "name": "stdout",
     "output_type": "stream",
     "text": [
      "Found 1137 validated image filenames belonging to 11 classes.\n",
      "Found 284 validated image filenames belonging to 11 classes.\n",
      "Found 609 validated image filenames belonging to 11 classes.\n"
     ]
    }
   ],
   "source": [
    "# Generate the train, validation and test images\n",
    "\n",
    "train_images = train_generator.flow_from_dataframe(\n",
    "    dataframe=train_df,\n",
    "    x_col='Image Path',\n",
    "    y_col='Label',\n",
    "    target_size=(224, 224),\n",
    "    color_mode='rgb',\n",
    "    class_mode='categorical',\n",
    "    batch_size=32,\n",
    "    shuffle=True,\n",
    "    seed=42,\n",
    "    subset='training'\n",
    ")\n",
    "\n",
    "val_images = train_generator.flow_from_dataframe(\n",
    "    dataframe=train_df,\n",
    "    x_col='Image Path',\n",
    "    y_col='Label',\n",
    "    target_size=(224, 224),\n",
    "    color_mode='rgb',\n",
    "    class_mode='categorical',\n",
    "    batch_size=32,\n",
    "    shuffle=True,\n",
    "    seed=42,\n",
    "    subset='validation'\n",
    ")\n",
    "\n",
    "test_images = test_generator.flow_from_dataframe(\n",
    "    dataframe=test_df,\n",
    "    x_col='Image Path',\n",
    "    y_col='Label',\n",
    "    target_size=(224, 224),\n",
    "    color_mode='rgb',\n",
    "    class_mode='categorical',\n",
    "    batch_size=32,\n",
    "    shuffle=False\n",
    ")"
   ]
  },
  {
   "cell_type": "code",
   "execution_count": null,
   "id": "989ec6e1",
   "metadata": {},
   "outputs": [
    {
     "name": "stdout",
     "output_type": "stream",
     "text": [
      "Downloading data from https://storage.googleapis.com/tensorflow/keras-applications/resnet/resnet50_weights_tf_dim_ordering_tf_kernels_notop.h5\n",
      "\u001b[1m94765736/94765736\u001b[0m \u001b[32m━━━━━━━━━━━━━━━━━━━━\u001b[0m\u001b[37m\u001b[0m \u001b[1m18s\u001b[0m 0us/step\n"
     ]
    }
   ],
   "source": [
    "# Load the pretrained ResNet50 model\n",
    "\n",
    "pretrained_model = tf.keras.applications.ResNet50(\n",
    "    input_shape=(224, 224, 3),\n",
    "    include_top=False,\n",
    "    weights='imagenet',\n",
    "    pooling='avg'\n",
    ")\n",
    "\n",
    "pretrained_model.trainable = False"
   ]
  },
  {
   "cell_type": "code",
   "execution_count": null,
   "id": "4da3d702",
   "metadata": {},
   "outputs": [
    {
     "name": "stderr",
     "output_type": "stream",
     "text": [
      "c:\\Users\\My Pc\\AppData\\Local\\Programs\\Python\\Python313\\Lib\\site-packages\\keras\\src\\trainers\\data_adapters\\py_dataset_adapter.py:121: UserWarning: Your `PyDataset` class should call `super().__init__(**kwargs)` in its constructor. `**kwargs` can include `workers`, `use_multiprocessing`, `max_queue_size`. Do not pass these arguments to `fit()`, as they will be ignored.\n",
      "  self._warn_if_super_not_called()\n"
     ]
    },
    {
     "name": "stdout",
     "output_type": "stream",
     "text": [
      "Epoch 1/5\n",
      "\u001b[1m36/36\u001b[0m \u001b[32m━━━━━━━━━━━━━━━━━━━━\u001b[0m\u001b[37m\u001b[0m \u001b[1m127s\u001b[0m 3s/step - accuracy: 0.0888 - loss: 2.3859 - val_accuracy: 0.0845 - val_loss: 2.3747\n",
      "Epoch 2/5\n",
      "\u001b[1m36/36\u001b[0m \u001b[32m━━━━━━━━━━━━━━━━━━━━\u001b[0m\u001b[37m\u001b[0m \u001b[1m108s\u001b[0m 3s/step - accuracy: 0.1047 - loss: 2.3369 - val_accuracy: 0.0599 - val_loss: 2.3807\n",
      "Epoch 3/5\n",
      "\u001b[1m36/36\u001b[0m \u001b[32m━━━━━━━━━━━━━━━━━━━━\u001b[0m\u001b[37m\u001b[0m \u001b[1m119s\u001b[0m 3s/step - accuracy: 0.1231 - loss: 2.3241 - val_accuracy: 0.0669 - val_loss: 2.3361\n",
      "Epoch 4/5\n",
      "\u001b[1m36/36\u001b[0m \u001b[32m━━━━━━━━━━━━━━━━━━━━\u001b[0m\u001b[37m\u001b[0m \u001b[1m130s\u001b[0m 4s/step - accuracy: 0.1557 - loss: 2.2815 - val_accuracy: 0.1514 - val_loss: 2.2291\n",
      "Epoch 5/5\n",
      "\u001b[1m36/36\u001b[0m \u001b[32m━━━━━━━━━━━━━━━━━━━━\u001b[0m\u001b[37m\u001b[0m \u001b[1m148s\u001b[0m 4s/step - accuracy: 0.1812 - loss: 2.2408 - val_accuracy: 0.1373 - val_loss: 2.2375\n"
     ]
    },
    {
     "data": {
      "image/png": "[encoded data removed]",
      "text/plain": [
       "<Figure size 1200x400 with 2 Axes>"
      ]
     },
     "metadata": {},
     "output_type": "display_data"
    }
   ],
   "source": [
    "# Build the ResNet50 model\n",
    "\n",
    "inputs = pretrained_model.input\n",
    "\n",
    "x = tf.keras.layers.Dense(128, activation='relu')(pretrained_model.output)\n",
    "x = tf.keras.layers.Dense(128, activation='relu')(x)\n",
    "\n",
    "outputs = tf.keras.layers.Dense(11, activation='softmax')(x)\n",
    "\n",
    "model = tf.keras.Model(inputs=inputs, outputs=outputs)\n",
    "\n",
    "# Compile the ResNet50 model\n",
    "model.compile(\n",
    "    optimizer= Adam(learning_rate=0.001),\n",
    "    loss='categorical_crossentropy',\n",
    "    metrics=['accuracy']\n",
    ")\n",
    "\n",
    "# Train the ResNet50 model\n",
    "history = model.fit(train_images,\n",
    "                    validation_data=val_images,\n",
    "                    epochs=5)\n",
    "\n",
    "# Plot graph for Accuracy and Loss over Epochs\n",
    "plot_history(history)"
   ]
  },
  {
   "cell_type": "code",
   "execution_count": null,
   "id": "8ed99cd4",
   "metadata": {},
   "outputs": [
    {
     "name": "stdout",
     "output_type": "stream",
     "text": [
      "Test Loss: 2.27586\n",
      "Test Accuracy: 12.64%\n"
     ]
    }
   ],
   "source": [
    "# Evaluate the ResNet50 model\n",
    "\n",
    "results = model.evaluate(test_images, verbose=0)\n",
    "\n",
    "print(\"Test Loss: {:.5f}\".format(results[0]))\n",
    "print(\"Test Accuracy: {:.2f}%\".format(results[1] * 100))"
   ]
  },
  {
   "cell_type": "code",
   "execution_count": null,
   "id": "085bc183",
   "metadata": {},
   "outputs": [
    {
     "name": "stdout",
     "output_type": "stream",
     "text": [
      "\u001b[1m20/20\u001b[0m \u001b[32m━━━━━━━━━━━━━━━━━━━━\u001b[0m\u001b[37m\u001b[0m \u001b[1m42s\u001b[0m 2s/step\n",
      "Accuracy: 0.1264\n",
      "Precision: 0.0370\n",
      "Recall: 0.1264\n",
      "F1-Score: 0.0552\n",
      "Confusion Matrix:\n",
      " [[36  0  0  0  0  0  9 17  0  0  0]\n",
      " [ 8  0  0  0  0  0  0  5  0  0  0]\n",
      " [19  0  0  0  0  0  0 45  0  0  0]\n",
      " [13  0  0  0  0  0  4 48  0  0  0]\n",
      " [ 5  0  0  0  0  0  0 60  0  0  0]\n",
      " [27  0  0  0  0  0 26 15  0  0  0]\n",
      " [12  0  0  0  0  0  9 25  0  0  0]\n",
      " [21  0  0  0  0  0  6 32  0  0  0]\n",
      " [36  0  0  0  0  0 10 15  0  0  0]\n",
      " [15  0  0  0  0  0  7 35  0  0  0]\n",
      " [ 8  0  0  0  0  0  1 40  0  0  0]]\n"
     ]
    },
    {
     "name": "stderr",
     "output_type": "stream",
     "text": [
      "c:\\Users\\My Pc\\AppData\\Local\\Programs\\Python\\Python313\\Lib\\site-packages\\sklearn\\metrics\\_classification.py:1706: UndefinedMetricWarning: Precision is ill-defined and being set to 0.0 in labels with no predicted samples. Use `zero_division` parameter to control this behavior.\n",
      "  _warn_prf(average, modifier, f\"{metric.capitalize()} is\", result.shape[0])\n"
     ]
    }
   ],
   "source": [
    "# Predict and display the metrics of the ResNet50 model\n",
    "\n",
    "prediction_probs = model.predict(test_images)\n",
    "predictions = np.argmax(prediction_probs, axis=1)\n",
    "\n",
    "y_true = test_images.classes\n",
    "\n",
    "print(f\"Accuracy: {accuracy_score(y_true, predictions):.4f}\")\n",
    "print(f\"Precision: {precision_score(y_true, predictions, average='weighted'):.4f}\")\n",
    "print(f\"Recall: {recall_score(y_true, predictions, average='weighted'):.4f}\")\n",
    "print(f\"F1-Score: {f1_score(y_true, predictions, average='weighted'):.4f}\")\n",
    "print(f\"Confusion Matrix:\\n {confusion_matrix(y_true, predictions)}\")"
   ]
  }
 ],
 "metadata": {
  "kernelspec": {
   "display_name": "Python 3",
   "language": "python",
   "name": "python3"
  },
  "language_info": {
   "codemirror_mode": {
    "name": "ipython",
    "version": 3
   },
   "file_extension": ".py",
   "mimetype": "text/x-python",
   "name": "python",
   "nbconvert_exporter": "python",
   "pygments_lexer": "ipython3",
   "version": "3.13.5"
  }
 },
 "nbformat": 4,
 "nbformat_minor": 5
}
