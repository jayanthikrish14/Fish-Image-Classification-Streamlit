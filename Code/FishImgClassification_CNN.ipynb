{
 "cells": [
  {
   "cell_type": "code",
   "execution_count": null,
   "id": "9bdd3387",
   "metadata": {},
   "outputs": [],
   "source": [
    "# Imports\n",
    "import pandas as pd\n",
    "import numpy as np\n",
    "import os\n",
    "import matplotlib.pyplot as plt\n",
    "import tensorflow as tf\n",
    "from pathlib import Path\n",
    "from sklearn.metrics import confusion_matrix, accuracy_score, precision_score, recall_score, f1_score\n",
    "from tensorflow.keras import regularizers, layers, models\n",
    "from tensorflow.keras.callbacks import EarlyStopping, ReduceLROnPlateau \n",
    "from keras.optimizers import Adam"
   ]
  },
  {
   "cell_type": "code",
   "execution_count": 5,
   "id": "835e1ff6",
   "metadata": {},
   "outputs": [
    {
     "name": "stdout",
     "output_type": "stream",
     "text": [
      "['animal fish' 'animal fish bass' 'fish sea_food black_sea_sprat'\n",
      " 'fish sea_food gilt_head_bream' 'fish sea_food hourse_mackerel'\n",
      " 'fish sea_food red_mullet' 'fish sea_food red_sea_bream'\n",
      " 'fish sea_food sea_bass' 'fish sea_food shrimp'\n",
      " 'fish sea_food striped_red_mullet' 'fish sea_food trout']\n",
      "                                          Image Path        Label\n",
      "0  D:\\AIML\\FishImgClassificationProject\\Data\\trai...  animal fish\n",
      "1  D:\\AIML\\FishImgClassificationProject\\Data\\trai...  animal fish\n",
      "2  D:\\AIML\\FishImgClassificationProject\\Data\\trai...  animal fish\n",
      "3  D:\\AIML\\FishImgClassificationProject\\Data\\trai...  animal fish\n",
      "4  D:\\AIML\\FishImgClassificationProject\\Data\\trai...  animal fish\n"
     ]
    }
   ],
   "source": [
    "image_dir = Path('D:\\\\AIML\\\\FishImgClassificationProject\\\\Data\\\\train')\n",
    "image_paths= list(image_dir.glob(r'**/*.jpg'))\n",
    "\n",
    "# Get images and corresponding labels\n",
    "images = [str(p) for p in image_paths]\n",
    "labels = [os.path.split(os.path.split(p)[0])[1] for p in image_paths]\n",
    "\n",
    "df = pd.DataFrame({'Image Path': images,'Label': labels})\n",
    "print(df['Label'].unique())\n",
    "print(df.head())"
   ]
  },
  {
   "cell_type": "code",
   "execution_count": 6,
   "id": "68c793ce",
   "metadata": {},
   "outputs": [
    {
     "data": {
      "text/plain": [
       "Label\n",
       "animal fish                         1096\n",
       "fish sea_food trout                  580\n",
       "fish sea_food red_mullet             579\n",
       "fish sea_food shrimp                 576\n",
       "fish sea_food hourse_mackerel        573\n",
       "fish sea_food red_sea_bream          571\n",
       "fish sea_food black_sea_sprat        569\n",
       "fish sea_food gilt_head_bream        566\n",
       "fish sea_food striped_red_mullet     547\n",
       "fish sea_food sea_bass               538\n",
       "animal fish bass                      30\n",
       "Name: count, dtype: int64"
      ]
     },
     "execution_count": 6,
     "metadata": {},
     "output_type": "execute_result"
    }
   ],
   "source": [
    "df['Label'].value_counts()"
   ]
  },
  {
   "cell_type": "code",
   "execution_count": 13,
   "id": "f8c14760",
   "metadata": {},
   "outputs": [],
   "source": [
    "def plot_history(history):\n",
    "    \"\"\" Plots the graph of Accuracy and Loss over epochs with the history of the model \"\"\"\n",
    "\n",
    "    plt.figure(figsize=(12,4))\n",
    "    plt.subplot(1,2,1)\n",
    "    plt.plot(history.history['accuracy'], label='Train Accuracy')\n",
    "    plt.plot(history.history['val_accuracy'], label='Val Accuracy')\n",
    "    plt.ylim(0, 1)\n",
    "    plt.yticks(np.arange(0, 1.1, 0.1)) \n",
    "    plt.legend()\n",
    "    plt.title('Accuracy over epochs')\n",
    "    \n",
    "    plt.subplot(1,2,2)\n",
    "    plt.plot(history.history['loss'], label='Train Loss')\n",
    "    plt.plot(history.history['val_loss'], label='Val Loss')\n",
    "    plt.legend()\n",
    "    plt.title('Loss over epochs')\n",
    "    plt.show()"
   ]
  },
  {
   "cell_type": "code",
   "execution_count": 7,
   "id": "4ca20981",
   "metadata": {},
   "outputs": [
    {
     "name": "stdout",
     "output_type": "stream",
     "text": [
      "<_PrefetchDataset element_spec=(TensorSpec(shape=(None, 128, 128, 3), dtype=tf.float32, name=None), TensorSpec(shape=(None,), dtype=tf.int32, name=None))>\n",
      "<_PrefetchDataset element_spec=(TensorSpec(shape=(None, 128, 128, 3), dtype=tf.float32, name=None), TensorSpec(shape=(None,), dtype=tf.int32, name=None))>\n"
     ]
    }
   ],
   "source": [
    "# Preprocess the Fish image data and create the train and test dataset\n",
    "images_labels = [\n",
    "    (str(p), os.path.split(os.path.split(p)[0])[1])\n",
    "    for p in image_paths\n",
    "]\n",
    "\n",
    "total_size = df['Label'].count()\n",
    "images_, labels_ = zip(*images_labels)\n",
    "\n",
    "class_names = sorted(set(labels_))\n",
    "\n",
    "class_to_index = {name: idx for idx, name in enumerate(class_names)}\n",
    "\n",
    "numeric_labels = [class_to_index[label] for label in labels_]\n",
    "\n",
    "dataset = tf.data.Dataset.from_tensor_slices((list(images_), list(numeric_labels)))\n",
    "\n",
    "img_size = (128, 128)\n",
    "\n",
    "def process_image(path, label):\n",
    "    image = tf.io.read_file(path)\n",
    "    image = tf.image.decode_png(image, channels=3)\n",
    "    image = tf.image.resize(image, img_size)\n",
    "    image = image / 255.0  # normalize\n",
    "    return image, label\n",
    "\n",
    "dataset = dataset.map(process_image, num_parallel_calls=tf.data.AUTOTUNE)\n",
    "\n",
    "dataset = dataset.shuffle(buffer_size=total_size, reshuffle_each_iteration=True)\n",
    "\n",
    "total_size = len(images_)\n",
    "train_size = int(0.8 * total_size)\n",
    "\n",
    "train_ds = dataset.take(train_size).batch(32).prefetch(tf.data.AUTOTUNE)\n",
    "test_ds = dataset.skip(train_size).batch(32).prefetch(tf.data.AUTOTUNE)\n",
    "print(train_ds)\n",
    "print(test_ds)"
   ]
  },
  {
   "cell_type": "code",
   "execution_count": 8,
   "id": "c58b3ebc",
   "metadata": {},
   "outputs": [],
   "source": [
    "test_images = []\n",
    "test_labels = []\n",
    "\n",
    "# Get the images and labels array from test dataset\n",
    "for img_batch, label_batch in test_ds:\n",
    "    test_images.extend(img_batch.numpy())\n",
    "    test_labels.extend(label_batch.numpy())\n",
    "\n",
    "test_images = np.array(test_images)\n",
    "test_labels = np.array(test_labels)"
   ]
  },
  {
   "cell_type": "code",
   "execution_count": null,
   "id": "b664647d",
   "metadata": {},
   "outputs": [],
   "source": [
    "# Data Augmentation\n",
    "data_augmentation = tf.keras.Sequential([\n",
    "    layers.RandomFlip(\"horizontal_and_vertical\"),\n",
    "    layers.RandomRotation(0.1),\n",
    "    layers.RandomZoom(0.1),\n",
    "    layers.RandomContrast(0.1),\n",
    "])\n",
    "train_ds = train_ds.map(lambda x, y: (data_augmentation(x, training=True), y))"
   ]
  },
  {
   "cell_type": "code",
   "execution_count": null,
   "id": "762d799b",
   "metadata": {},
   "outputs": [],
   "source": [
    "# Build the CNN model\n",
    "CNN_model = models.Sequential([\n",
    "    layers.Conv2D(32, (3, 3), activation='relu', padding='same',\n",
    "                  kernel_regularizer=regularizers.l2(0.0001),\n",
    "                  input_shape=(128, 128 , 3)),\n",
    "    layers.BatchNormalization(),\n",
    "    layers.MaxPooling2D((2, 2)),\n",
    "    layers.Dropout(0.5),\n",
    "    \n",
    "    layers.Conv2D(64, (3, 3), activation='relu', padding='same',\n",
    "                  kernel_regularizer=regularizers.l2(0.0001)),\n",
    "    layers.BatchNormalization(),\n",
    "    layers.MaxPooling2D((2, 2)),\n",
    "    layers.Dropout(0.5),\n",
    "    \n",
    "    layers.Conv2D(128, (3, 3), activation='relu', padding='same',\n",
    "                  kernel_regularizer=regularizers.l2(0.0001)),\n",
    "    layers.BatchNormalization(),\n",
    "    layers.MaxPooling2D((2, 2)),\n",
    "    layers.Dropout(0.5),\n",
    "    \n",
    "    layers.Conv2D(256, (3, 3), activation='relu', padding='same',\n",
    "                  kernel_regularizer=regularizers.l2(0.0001)),\n",
    "    layers.BatchNormalization(),\n",
    "    layers.MaxPooling2D((2, 2)),\n",
    "    layers.Dropout(0.5),\n",
    "    \n",
    "    layers.GlobalAveragePooling2D(),\n",
    "\n",
    "    layers.Dense(512, activation='relu',\n",
    "                 kernel_regularizer=regularizers.l2(0.0001)),\n",
    "    layers.Dropout(0.5),\n",
    "    layers.BatchNormalization(),\n",
    "\n",
    "    layers.Dense(36, activation='softmax',\n",
    "                 kernel_regularizer=regularizers.l2(0.0001))\n",
    "])\n",
    "\n",
    "# Compile the CNN model\n",
    "CNN_model.compile(\n",
    "    optimizer=Adam(learning_rate=0.001),\n",
    "    loss='sparse_categorical_crossentropy',\n",
    "    metrics=['accuracy']\n",
    ")\n",
    "\n",
    "early_stop = EarlyStopping(\n",
    "    monitor='val_loss',\n",
    "    patience=6,\n",
    "    restore_best_weights=True\n",
    ")\n",
    "\n",
    "reduce_lr = ReduceLROnPlateau(\n",
    "    monitor='val_loss',\n",
    "    factor=0.5,\n",
    "    patience=2,\n",
    "    min_lr=1e-7\n",
    ")\n",
    "\n",
    "callbacks = [early_stop, reduce_lr]\n",
    "\n",
    "# Fit/Train the model with train dataset\n",
    "history = CNN_model.fit(\n",
    "    train_ds,\n",
    "    epochs=5,\n",
    "    validation_data=test_ds,\n",
    "    callbacks=callbacks,\n",
    "    verbose=0\n",
    ")"
   ]
  },
  {
   "cell_type": "code",
   "execution_count": 14,
   "id": "2a56421c",
   "metadata": {},
   "outputs": [
    {
     "data": {
      "image/png": "[encoded data removed]",
      "text/plain": [
       "<Figure size 1200x400 with 2 Axes>"
      ]
     },
     "metadata": {},
     "output_type": "display_data"
    }
   ],
   "source": [
    "# Plot graph for Accuracy and Loss over Epochs\n",
    "plot_history(history)"
   ]
  },
  {
   "cell_type": "code",
   "execution_count": null,
   "id": "6d49d9c1",
   "metadata": {},
   "outputs": [
    {
     "name": "stdout",
     "output_type": "stream",
     "text": [
      "Test Loss: 3.97909\n",
      "Test Accuracy: 53.09%\n"
     ]
    }
   ],
   "source": [
    "# Evaluate the CNN model\n",
    "results = CNN_model.evaluate(test_images, test_labels, verbose=0)\n",
    "\n",
    "print(\"Test Loss: {:.5f}\".format(results[0]))\n",
    "print(\"Test Accuracy: {:.2f}%\".format(results[1] * 100))"
   ]
  },
  {
   "cell_type": "code",
   "execution_count": null,
   "id": "a84d364b",
   "metadata": {},
   "outputs": [
    {
     "name": "stdout",
     "output_type": "stream",
     "text": [
      "\u001b[1m39/39\u001b[0m \u001b[32m━━━━━━━━━━━━━━━━━━━━\u001b[0m\u001b[37m\u001b[0m \u001b[1m6s\u001b[0m 144ms/step\n",
      "Prediction:\n",
      "\n",
      "Accuracy: 0.5309\n",
      "Precision: 0.4588\n",
      "Recall: 0.5309\n",
      "F1-Score: 0.4534\n",
      "Confusion Matrix:\n",
      " [[185   0  10   0   1   9   6   1   8   6   0]\n",
      " [  7   0   0   0   0   0   0   0   0   0   0]\n",
      " [  0   0 103   0   0   0   0   0   0   0   0]\n",
      " [  0   0  10   0   0   0  10   0   0  79   0]\n",
      " [  0   0  32   0   7   0   0   0  40  40   0]\n",
      " [  0   0   0   0   0 114   0   0   0   0   0]\n",
      " [  0   0   0   0   0   0  47   0   1  68   0]\n",
      " [  0   0  54   0   0   0   0   0   0  61   0]\n",
      " [  0   0   7   0   0   0   0   0 110   4   0]\n",
      " [  0   0   5   0   0   1   0   0   0  95   0]\n",
      " [  0   0  14   0   9   0  52   0   1  48   0]]\n"
     ]
    },
    {
     "name": "stderr",
     "output_type": "stream",
     "text": [
      "c:\\Users\\My Pc\\AppData\\Local\\Programs\\Python\\Python313\\Lib\\site-packages\\sklearn\\metrics\\_classification.py:1706: UndefinedMetricWarning: Precision is ill-defined and being set to 0.0 in labels with no predicted samples. Use `zero_division` parameter to control this behavior.\n",
      "  _warn_prf(average, modifier, f\"{metric.capitalize()} is\", result.shape[0])\n"
     ]
    }
   ],
   "source": [
    "# Predict and display the metrics of CNN model\n",
    "\n",
    "prediction_probs = CNN_model.predict(test_images)\n",
    "predictions = np.argmax(prediction_probs, axis=1)\n",
    "\n",
    "y_true = test_labels\n",
    "\n",
    "print(f\"Prediction:\\n\")\n",
    "print(f\"Accuracy: {accuracy_score(y_true, predictions):.4f}\")\n",
    "print(f\"Precision: {precision_score(y_true, predictions, average='weighted'):.4f}\")\n",
    "print(f\"Recall: {recall_score(y_true, predictions, average='weighted'):.4f}\")\n",
    "print(f\"F1-Score: {f1_score(y_true, predictions, average='weighted'):.4f}\")\n",
    "print(f\"Confusion Matrix:\\n {confusion_matrix(y_true, predictions)}\")"
   ]
  }
 ],
 "metadata": {
  "kernelspec": {
   "display_name": "Python 3",
   "language": "python",
   "name": "python3"
  },
  "language_info": {
   "codemirror_mode": {
    "name": "ipython",
    "version": 3
   },
   "file_extension": ".py",
   "mimetype": "text/x-python",
   "name": "python",
   "nbconvert_exporter": "python",
   "pygments_lexer": "ipython3",
   "version": "3.13.5"
  }
 },
 "nbformat": 4,
 "nbformat_minor": 5
}
