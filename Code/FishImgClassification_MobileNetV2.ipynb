{
 "cells": [
  {
   "cell_type": "code",
   "execution_count": 2,
   "id": "ad272cbd",
   "metadata": {},
   "outputs": [],
   "source": [
    "# Imports\n",
    "import pandas as pd\n",
    "import numpy as np\n",
    "import os\n",
    "import matplotlib.pyplot as plt\n",
    "import tensorflow as tf\n",
    "from pathlib import Path\n",
    "from sklearn.model_selection import train_test_split\n",
    "from sklearn.metrics import confusion_matrix, accuracy_score, precision_score, recall_score, f1_score"
   ]
  },
  {
   "cell_type": "code",
   "execution_count": null,
   "id": "47bc2a5e",
   "metadata": {},
   "outputs": [
    {
     "name": "stdout",
     "output_type": "stream",
     "text": [
      "['animal fish' 'animal fish bass' 'fish sea_food black_sea_sprat'\n",
      " 'fish sea_food gilt_head_bream' 'fish sea_food hourse_mackerel'\n",
      " 'fish sea_food red_mullet' 'fish sea_food red_sea_bream'\n",
      " 'fish sea_food sea_bass' 'fish sea_food shrimp'\n",
      " 'fish sea_food striped_red_mullet' 'fish sea_food trout']\n",
      "                                             Image Path                Label\n",
      "0     D:\\AIML\\FishImgClassificationProject\\Data\\trai...          animal fish\n",
      "1     D:\\AIML\\FishImgClassificationProject\\Data\\trai...          animal fish\n",
      "2     D:\\AIML\\FishImgClassificationProject\\Data\\trai...          animal fish\n",
      "3     D:\\AIML\\FishImgClassificationProject\\Data\\trai...          animal fish\n",
      "4     D:\\AIML\\FishImgClassificationProject\\Data\\trai...          animal fish\n",
      "...                                                 ...                  ...\n",
      "6220  D:\\AIML\\FishImgClassificationProject\\Data\\trai...  fish sea_food trout\n",
      "6221  D:\\AIML\\FishImgClassificationProject\\Data\\trai...  fish sea_food trout\n",
      "6222  D:\\AIML\\FishImgClassificationProject\\Data\\trai...  fish sea_food trout\n",
      "6223  D:\\AIML\\FishImgClassificationProject\\Data\\trai...  fish sea_food trout\n",
      "6224  D:\\AIML\\FishImgClassificationProject\\Data\\trai...  fish sea_food trout\n",
      "\n",
      "[6225 rows x 2 columns]\n"
     ]
    }
   ],
   "source": [
    "image_dir = Path('D:\\\\AIML\\\\FishImgClassificationProject\\\\Data\\\\train')\n",
    "image_paths= list(image_dir.glob(r'**/*.jpg'))\n",
    "\n",
    "# Get images and corresponding labels\n",
    "images = [str(p) for p in image_paths]\n",
    "labels = [os.path.split(os.path.split(p)[0])[1] for p in image_paths]\n",
    "\n",
    "df = pd.DataFrame({'Image Path': images,'Label': labels})\n",
    "print(df['Label'].unique())\n",
    "print(df)"
   ]
  },
  {
   "cell_type": "code",
   "execution_count": 5,
   "id": "10804232",
   "metadata": {},
   "outputs": [
    {
     "data": {
      "text/plain": [
       "Label\n",
       "animal fish                         1096\n",
       "fish sea_food trout                  580\n",
       "fish sea_food red_mullet             579\n",
       "fish sea_food shrimp                 576\n",
       "fish sea_food hourse_mackerel        573\n",
       "fish sea_food red_sea_bream          571\n",
       "fish sea_food black_sea_sprat        569\n",
       "fish sea_food gilt_head_bream        566\n",
       "fish sea_food striped_red_mullet     547\n",
       "fish sea_food sea_bass               538\n",
       "animal fish bass                      30\n",
       "Name: count, dtype: int64"
      ]
     },
     "execution_count": 5,
     "metadata": {},
     "output_type": "execute_result"
    }
   ],
   "source": [
    "df['Label'].value_counts()"
   ]
  },
  {
   "cell_type": "code",
   "execution_count": null,
   "id": "1c8d796c",
   "metadata": {},
   "outputs": [],
   "source": [
    "def plot_history(history):\n",
    "    \"\"\" Plots the graph of Accuracy and Loss over epochs with the history of the model \"\"\"\n",
    "\n",
    "    plt.figure(figsize=(12,4))\n",
    "    plt.subplot(1,2,1)\n",
    "    plt.plot(history.history['accuracy'], label='Train Accuracy')\n",
    "    plt.plot(history.history['val_accuracy'], label='Val Accuracy')\n",
    "    plt.ylim(0, 1)\n",
    "    plt.yticks(np.arange(0, 1.1, 0.1)) \n",
    "    plt.legend()\n",
    "    plt.title('Accuracy over epochs')\n",
    "    \n",
    "    plt.subplot(1,2,2)\n",
    "    plt.plot(history.history['loss'], label='Train Loss')\n",
    "    plt.plot(history.history['val_loss'], label='Val Loss')\n",
    "    plt.legend()\n",
    "    plt.title('Loss over epochs')\n",
    "    plt.show()"
   ]
  },
  {
   "cell_type": "code",
   "execution_count": null,
   "id": "b598694e",
   "metadata": {},
   "outputs": [],
   "source": [
    "# Split the Fish image data into train and test\n",
    "\n",
    "train_df, test_df = train_test_split(df, train_size=0.7, shuffle=True, random_state=1)"
   ]
  },
  {
   "cell_type": "code",
   "execution_count": null,
   "id": "e77f559c",
   "metadata": {},
   "outputs": [],
   "source": [
    "# Preprocess/Data Augmentation of the train and test data\n",
    "\n",
    "train_generator = tf.keras.preprocessing.image.ImageDataGenerator(\n",
    "    preprocessing_function=tf.keras.applications.mobilenet_v2.preprocess_input,\n",
    "    validation_split=0.2\n",
    ")\n",
    "\n",
    "test_generator = tf.keras.preprocessing.image.ImageDataGenerator(\n",
    "    preprocessing_function=tf.keras.applications.mobilenet_v2.preprocess_input\n",
    ")"
   ]
  },
  {
   "cell_type": "code",
   "execution_count": null,
   "id": "54f2f5dc",
   "metadata": {},
   "outputs": [
    {
     "name": "stdout",
     "output_type": "stream",
     "text": [
      "Found 3486 validated image filenames belonging to 11 classes.\n",
      "Found 871 validated image filenames belonging to 11 classes.\n",
      "Found 1868 validated image filenames belonging to 11 classes.\n"
     ]
    }
   ],
   "source": [
    "# Generate the train, validation and test images\n",
    "\n",
    "train_images = train_generator.flow_from_dataframe(\n",
    "    dataframe=train_df,\n",
    "    x_col='Image Path',\n",
    "    y_col='Label',\n",
    "    target_size=(224, 224),\n",
    "    color_mode='rgb',\n",
    "    class_mode='categorical',\n",
    "    batch_size=32,\n",
    "    shuffle=True,\n",
    "    seed=42,\n",
    "    subset='training'\n",
    ")\n",
    "\n",
    "val_images = train_generator.flow_from_dataframe(\n",
    "    dataframe=train_df,\n",
    "    x_col='Image Path',\n",
    "    y_col='Label',\n",
    "    target_size=(224, 224),\n",
    "    color_mode='rgb',\n",
    "    class_mode='categorical',\n",
    "    batch_size=32,\n",
    "    shuffle=True,\n",
    "    seed=42,\n",
    "    subset='validation'\n",
    ")\n",
    "\n",
    "test_images = test_generator.flow_from_dataframe(\n",
    "    dataframe=test_df,\n",
    "    x_col='Image Path',\n",
    "    y_col='Label',\n",
    "    target_size=(224, 224),\n",
    "    color_mode='rgb',\n",
    "    class_mode='categorical',\n",
    "    batch_size=32,\n",
    "    shuffle=False\n",
    ")"
   ]
  },
  {
   "cell_type": "code",
   "execution_count": 10,
   "id": "6118bff0",
   "metadata": {},
   "outputs": [
    {
     "name": "stdout",
     "output_type": "stream",
     "text": [
      "(224, 224, 3)\n",
      "(224, 224, 3)\n",
      "(224, 224, 3)\n"
     ]
    }
   ],
   "source": [
    "print(train_images.image_shape)\n",
    "print(val_images.image_shape)\n",
    "print(test_images.image_shape)"
   ]
  },
  {
   "cell_type": "code",
   "execution_count": null,
   "id": "989ec6e1",
   "metadata": {},
   "outputs": [],
   "source": [
    "# Load the pretrained MobileNetV2 model\n",
    "\n",
    "pretrained_model = tf.keras.applications.MobileNetV2(\n",
    "    input_shape=(224, 224, 3),\n",
    "    include_top=False,\n",
    "    weights='imagenet',\n",
    "    pooling='avg'\n",
    ")\n",
    "\n",
    "pretrained_model.trainable = False"
   ]
  },
  {
   "cell_type": "code",
   "execution_count": null,
   "id": "4da3d702",
   "metadata": {},
   "outputs": [],
   "source": [
    "# Build the MobileNetV2 model\n",
    "\n",
    "inputs = pretrained_model.input\n",
    "\n",
    "x = tf.keras.layers.Dense(128, activation='relu')(pretrained_model.output)\n",
    "x = tf.keras.layers.Dense(128, activation='relu')(x)\n",
    "\n",
    "outputs = tf.keras.layers.Dense(11, activation='softmax')(x)\n",
    "\n",
    "model = tf.keras.Model(inputs=inputs, outputs=outputs)\n",
    "\n",
    "# Compile the MobileNetV2 model\n",
    "model.compile(\n",
    "    optimizer= 'adam',\n",
    "    loss='categorical_crossentropy',\n",
    "    metrics=['accuracy']\n",
    ")\n",
    "\n",
    "# Train the MobileNetV2 model\n",
    "history = model.fit(train_images,\n",
    "                    validation_data=val_images,\n",
    "                    epochs=5)\n"
   ]
  },
  {
   "cell_type": "code",
   "execution_count": null,
   "id": "1bf4e99c",
   "metadata": {},
   "outputs": [
    {
     "data": {
      "image/png": "[encoded data removed]",
      "text/plain": [
       "<Figure size 1200x400 with 2 Axes>"
      ]
     },
     "metadata": {},
     "output_type": "display_data"
    }
   ],
   "source": [
    "# Plot graph for Accuracy and Loss over Epochs\n",
    "plot_history(history)"
   ]
  },
  {
   "cell_type": "code",
   "execution_count": null,
   "id": "8ed99cd4",
   "metadata": {},
   "outputs": [
    {
     "name": "stdout",
     "output_type": "stream",
     "text": [
      "Test Loss: 0.02373\n",
      "Test Accuracy: 99.46%\n"
     ]
    }
   ],
   "source": [
    "# Evaluate the MobileNetV2 model\n",
    "\n",
    "results = model.evaluate(test_images, verbose=0)\n",
    "\n",
    "print(\"Test Loss: {:.5f}\".format(results[0]))\n",
    "print(\"Test Accuracy: {:.2f}%\".format(results[1] * 100))"
   ]
  },
  {
   "cell_type": "code",
   "execution_count": null,
   "id": "085bc183",
   "metadata": {},
   "outputs": [
    {
     "name": "stdout",
     "output_type": "stream",
     "text": [
      "\u001b[1m59/59\u001b[0m \u001b[32m━━━━━━━━━━━━━━━━━━━━\u001b[0m\u001b[37m\u001b[0m \u001b[1m50s\u001b[0m 815ms/step\n",
      "Accuracy: 0.9946\n",
      "Precision: 0.9946\n",
      "Recall: 0.9946\n",
      "F1-Score: 0.9946\n",
      "Confusion Matrix:\n",
      " [[316   1   0   0   0   0   0   0   0   0   0]\n",
      " [  2   5   0   0   0   0   0   0   0   0   0]\n",
      " [  0   0 175   0   1   0   0   0   0   0   0]\n",
      " [  0   0   0 169   0   0   0   0   0   0   1]\n",
      " [  0   0   0   0 174   0   0   0   0   1   0]\n",
      " [  0   0   0   0   0 171   0   0   0   0   0]\n",
      " [  0   0   0   1   0   0 180   0   0   0   0]\n",
      " [  0   0   0   0   0   0   0 172   0   0   0]\n",
      " [  0   0   0   0   0   0   0   0 170   0   0]\n",
      " [  0   0   0   0   0   2   0   1   0 151   0]\n",
      " [  0   0   0   0   0   0   0   0   0   0 175]]\n"
     ]
    }
   ],
   "source": [
    "# Predict and display the metrics of the MobileNetV2 model\n",
    "\n",
    "prediction_probs = model.predict(test_images)\n",
    "predictions = np.argmax(prediction_probs, axis=1)\n",
    "\n",
    "y_true = test_images.classes\n",
    "\n",
    "print(f\"Accuracy: {accuracy_score(y_true, predictions):.4f}\")\n",
    "print(f\"Precision: {precision_score(y_true, predictions, average='weighted'):.4f}\")\n",
    "print(f\"Recall: {recall_score(y_true, predictions, average='weighted'):.4f}\")\n",
    "print(f\"F1-Score: {f1_score(y_true, predictions, average='weighted'):.4f}\")\n",
    "print(f\"Confusion Matrix:\\n {confusion_matrix(y_true, predictions)}\")"
   ]
  },
  {
   "cell_type": "code",
   "execution_count": null,
   "id": "5caa581b",
   "metadata": {},
   "outputs": [],
   "source": [
    "# Save the model as this model has the highest prediction accuracy\n",
    "model.save(\"FishImgClass_MobileNetV2.model.h5\")"
   ]
  }
 ],
 "metadata": {
  "kernelspec": {
   "display_name": "Python 3",
   "language": "python",
   "name": "python3"
  },
  "language_info": {
   "codemirror_mode": {
    "name": "ipython",
    "version": 3
   },
   "file_extension": ".py",
   "mimetype": "text/x-python",
   "name": "python",
   "nbconvert_exporter": "python",
   "pygments_lexer": "ipython3",
   "version": "3.13.5"
  }
 },
 "nbformat": 4,
 "nbformat_minor": 5
}
